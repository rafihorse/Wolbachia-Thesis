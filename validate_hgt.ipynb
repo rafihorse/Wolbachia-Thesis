{
 "cells": [
  {
   "cell_type": "markdown",
   "metadata": {},
   "source": [
    "## Identifying HGT Events"
   ]
  },
  {
   "cell_type": "markdown",
   "metadata": {},
   "source": [
    "#### Friday 06/26/2020 - Catching up my lab notebook\n",
    "\n",
    "The first steps to finding putative HGT events in Wolbachia necessitate creating custom databases and working with BLAST. The following notes and protocols were performed prior to this date and are just now being recorded.\n",
    "These were the commands used for the BLAST protocol to generate putative HGT events."
   ]
  },
  {
   "cell_type": "code",
   "execution_count": null,
   "metadata": {},
   "outputs": [],
   "source": [
    "makeblastdb -in all_wolbachia_genomes.faa -out wolbachia_db -title wolbachia_db -dbtype prot\n",
    "\n",
    "find . -name \"*.faa\" | parallel -j 8 \"blastp -query {} -out {}.out -db /Scratch/smnieves/databases/wolbachia_db/wolbachia_db -num_threads 8 -outfmt 6\"\n",
    "\n",
    "FilterBlast.py -dir /home/smnieves/arthropod_genomes/genbank_prot/ -percID 90 -len_align 150"
   ]
  },
  {
   "cell_type": "markdown",
   "metadata": {},
   "source": [
    "The BLAST results were filtered for arthropod (potentially horizontally transferred) proteins that had at least 150 aligned amino acids and 90% sequence identity with a Wolbachia protein, in order to obtain sufficiently recent HGT events (using FilterBlast.py). The query column was then taken from the filtered BLAST output and duplicates were removed, to arrive at 1673 putative horizontally transferred proteins (arthqueries.txt). **The taxonomic information on BLAST hits is shown below.**"
   ]
  },
  {
   "cell_type": "markdown",
   "metadata": {},
   "source": [
    "| Scientific Name                                 | Common Name                             | Number of HGT protein hits |\n",
    "|-------------------------------------------------|-----------------------------------------|----------------------------|\n",
    "| Wolbachia Endosymbiont of Armadillidium vulgare | Wolbachia (endosymbiont of pill-bug)    | 1206                       |\n",
    "| Armadillidium vulgare                           | Pill-bug, roly-poly                     | 12                         |\n",
    "| Vollenhovia emeryi                              | Ant species from East Asia              | 170                        |\n",
    "| Trichonephila clavipes                          | Golden silk orb-weaver spider           | 127                        |\n",
    "| Cinara cedri                                    | Cedar bark aphid                        | 70                         |\n",
    "| Laodelphax striatellus                          | Small brown planthopper                 | 29                         |\n",
    "| Formica exsecta                                 | Narrow-headed ant                       | 20                         |\n",
    "| Acromyrmex echinatior                           | Panamanian leaf-cutter ant              | 13                         |\n",
    "| Wasmannia auropunctata                          | Electric ant, little fire ant           | 7                          |\n",
    "| Rhagoletis zephyria                             | Snowberry fruit fly                     | 6                          |\n",
    "| Drosophila ananassae                            | Fruit fly in the Melanogaster group     | 3                          |\n",
    "| Ceratina calcarata                              | Spurred ceratina, carpenter bee species | 2                          |\n",
    "| Cryptotermes secundus                           | West Indian drywood termite             | 2                          |\n",
    "| Solenopsis invicta                              | Red imported fire ant                   | 1                          |\n",
    "| Drosophila eugracilis                           | Fruit fly in the Melanogaster group     | 1                          |\n",
    "| Sipha flava                                     | Yellow sugarcane aphid                  | 1                          |"
   ]
  },
  {
   "cell_type": "markdown",
   "metadata": {},
   "source": [
    "Next, we wanted to validate the HGT events we potentially uncovered through BLAST. To do this we mapped WGS reads to the reference genome of each arthropod and checked the coverage of Wolbachia-transferred exonic regions vs. the coverage of similarly sized exonic regions in the host."
   ]
  },
  {
   "cell_type": "code",
   "execution_count": null,
   "metadata": {},
   "outputs": [],
   "source": [
    "import CovCheck\n",
    "CovCheck.speciesHisto()\n",
    "# this means google drive syncing works"
   ]
  },
  {
   "cell_type": "markdown",
   "metadata": {},
   "source": [
    "## Associating Protein and Gene IDs"
   ]
  },
  {
   "cell_type": "markdown",
   "metadata": {},
   "source": [
    "#### Friday 06/26/2020\n",
    "\n",
    "First I converted all of the GFF files I used for STAR alignment into GTF format. I did it this way so there would be consistent naming conventions across my analysis, as some of the GTF files available directly from NCBI had different identifiers for genes and chromosomes. I used GFF because the NCBI GTF files were not playing nice with STAR. This results in .gff.gtf files; I kept the names this way to distinguish between GTF files I made from GFF conversions and GTF files I may have downloaded directly from NCBI with different information."
   ]
  },
  {
   "cell_type": "code",
   "execution_count": null,
   "metadata": {},
   "outputs": [],
   "source": [
    "find */ -name \"*.gff\" -exec gffread -EFT {} -o {}.gtf \\;"
   ]
  },
  {
   "cell_type": "markdown",
   "metadata": {},
   "source": [
    "Because in the subsequent step there was no way to extract the protein IDs when I calculate TPM for each gene using TPMCalculator, I needed to find a way to relate gene IDs with protein IDs (to be honest I had been putting this off for a while). I found a pretty convenient awk solution from biostars to do this, and adapted it to my needs. It parses the GTF file and looks for gene_id and protein_id attributes in the same line and creates a document that associates them. This is done for the entire GTF file in every organism's folder."
   ]
  },
  {
   "cell_type": "code",
   "execution_count": null,
   "metadata": {},
   "outputs": [],
   "source": [
    "for dir in *\n",
    "do\n",
    "awk '{for (i = 1; i <= NF; i++) {\n",
    "        if ($i ~ /Parent|protein_id/ && $i !~ /orig/) {\n",
    "            printf \"%s \", $(i+1)\n",
    "        }\n",
    "    }\n",
    "    print \"\"\n",
    "}' $dir/*.gff | sed -e 's/\"//g' -e 's/;//g' -e 's/ /\\t/' | sort -u -k2,2 > $dir/prot_gene_ids.txt\n",
    "done"
   ]
  },
  {
   "cell_type": "markdown",
   "metadata": {},
   "source": [
    "The next thing I wanted to do was have a list of all protein and gene IDs for HGT events concatenated for every organism. I have the protein IDs already, so I concatenated together the gene and protein IDs for the whole GTF file, filtered for only genes that corresponded to my BLAST hit proteins, and put the gene_ids.txt file in the results folder."
   ]
  },
  {
   "cell_type": "code",
   "execution_count": null,
   "metadata": {},
   "outputs": [],
   "source": [
    "rm results/prot_gene_ids.txt\n",
    "cat */prot_gene_ids.txt | grep -Ff ~/bin/arth_queries.txt > results/prot_gene_ids.txt"
   ]
  },
  {
   "cell_type": "markdown",
   "metadata": {},
   "source": [
    "For some reason this only results in 568 gene IDs when I know there are 1673 proteins. This is concerning so I'm going to look into this further. Actually I think I know why this might be. Armadillidium vulgare is the only organism that has two different assemblies and therefore two different GTF files that I'm analyzing. It also accounts for a lot of genes. I think my awk command is overwriting one of the prot_gene_ids.txt files because they would have the same name in the same folder. So I'll do this command individually on each GTF for this organism. I also appended the two ID files together in the end, and reran the above command. Ok, so now I have 1774 gene IDs, which is too many. After removing duplicates with uniq, there are 1490 gene IDs. When I remove duplicates using sort on the list of proteins, I get 1635, which is almost there. When I remove duplicates using sort on the list of genes, I get 1632 which is more comparable to the protein count. I realized that Drosophila ananassae has two assemblies as well, so I went back and did the awk part separately, so now there are 1638 unique proteins and 1635 unique genes found in the GTF file for HGT events.\n",
    "**I actually realized that the awk script I had written previously did not account for some weird things going on in the GTF files where more than one field had the string** protein_id **in it. So the I modified the awk script to the one above, which works well.**"
   ]
  },
  {
   "cell_type": "markdown",
   "metadata": {},
   "source": [
    "#### Sunday 06/28/2020 - Finalizing prot_gene_ids.txt\n",
    "I've been looking around some database accession / ID converters but it seems there's no solutions for the proteins I have here. The reason is that some of the proteins are predictions from CDS, so NCBI doesn't link any annotated genes to them. The GTF files have gene IDs that correspond to the protein IDs but when you pop the gene ID into NCBI it returns a page about the protein. So I guess I will have to settle for using those \"gene IDs that are not really gene IDs\". I still have to verify that I get the correct number of gene IDs for each organism, so I will be doing that separately for each organism. **It seems that some GTF files have proteins that have the correct information except the protein ID is messed up. I verified that with Cinara cedri, where all of the information is correct for this** [annotation](https://pmlegacy.ncbi.nlm.nih.gov/protein/VVC27533.1) **except the** protein_id **is listed as VVC27534.1 instead of VVC27533.1. I'll have to manually correct this.**\n",
    "\n",
    "VVC27533.1 and VVC27534.1 share the same gene CINCED_3A012149. Maybe this causes the confusion. Additionally, I just checked and it looks like although there are 1673 protein accessions, only 1670 are recognized by Batch Entrez and NCBI. So I'm moving forward with 1670, though at some point I should figure out what the 3 anomalous records are.\n",
    "\n",
    "| Organism                                        | Number of Proteins | Number of gene_ids in GTF |\n",
    "|-------------------------------------------------|--------------------|---------------------------|\n",
    "| Wolbachia Endosymbiont of Armadillidium vulgare | 1206               | 1206                      |\n",
    "| Armadillidium vulgare                           | 12                 | 12                        |\n",
    "| Vollenhovia emeryi                              | 170                | 170                       |\n",
    "| Trichonephila clavipes                          | 127                | 127                       |\n",
    "| Cinara cedri                                    | 70                 | 69                        |\n",
    "| Laodelphax striatellus                          | 29                 | 29                        |\n",
    "| Formica exsecta                                 | 20                 | 20                        |\n",
    "| Acromyrmex echinatior                           | 13                 | 13                        |\n",
    "| Wasmannia auropunctata                          | 7                  | 7                         |\n",
    "| Rhagoletis zephyria                             | 6                  | 6                         |\n",
    "| Drosophila ananassae                            | 3                  | 3                         |\n",
    "| Ceratina calcarata                              | 2                  | 2                         |\n",
    "| Cryptotermes secundus                           | 2                  | 0                         |\n",
    "| Solenopsis invicta                              | 1                  | 1                         |\n",
    "| Drosophila eugracilis                           | 1                  | 1                         |\n",
    "| Sipha flava                                     | 1                  | 1                         |"
   ]
  },
  {
   "cell_type": "markdown",
   "metadata": {},
   "source": [
    "## TPMCalculator Stuff"
   ]
  },
  {
   "cell_type": "markdown",
   "metadata": {},
   "source": [
    "#### Friday 06/30/2020\n",
    "\n",
    "For the record I worked on this project between Friday and Tuesday, but I was just making adjustments and figuring things out pertaining to the above script stuff so I didn't add a new day. I did find out that although there are **1673** protein accessions, **3 are anomalous**. I will proceed with the non-anomalous ones for now. It also appears that the 1 Cinara cedri accession and 2 Cryptotermes secundus accessions are somehow not in the GTF files. This makes sense because I didn't find anything for this species in the cov_check analysis I did. There is only 1 assembly available so this is suspect. *I'm going to move on with what I have for the sake of time.* So here is how I am calculating TPM."
   ]
  },
  {
   "cell_type": "code",
   "execution_count": null,
   "metadata": {},
   "outputs": [],
   "source": [
    "# some features in .gff.gtf file may not have gene_id and that messes up TPMCalculator\n",
    "sed '/gene_id/!d' *.gtf > new_file\n",
    "\n",
    "for dir in *_*\n",
    "do\n",
    "        TPMCalculator -g $dir/*.gtf -d $dir -p\n",
    "done"
   ]
  },
  {
   "cell_type": "markdown",
   "metadata": {},
   "source": [
    "#### Wednesday 7/01/2020 - Creating a JitterPlot\n",
    "This is the test run for figuring out the JitterPlot specifics before I run my TPM data through it. I'm just going to randomly generate data and see how it looks."
   ]
  },
  {
   "cell_type": "code",
   "execution_count": 100,
   "metadata": {},
   "outputs": [
    {
     "name": "stdout",
     "output_type": "stream",
     "text": [
      "['#3c1642', '#7d2e8a', '#086375', '#0fb1d2', '#1dd3b0', '#93f0de', '#d7263d', '#e77484', '#a288e3', '#d8cdf4', '#f6ae2d', '#f9d38a', '#fa7921', '#fcaa73', '#ee4266', '#f58fa5', '#5b3000', '#b86200', '#607744', '#93ad71']\n",
      "['a_echinatior\\nERR034191', '', 'a_vulgare\\nSRR1324808', '', 'c_cedri\\nERR3447770', '', 'f_exsecta\\nDRR118169', '', 's_invicta\\nSRR8570229', '', 't_clavipes\\nSRR5139361', '', 'v_emeryi\\nDRR030162', '', 'w_auropunctata\\nDRR029092', '']\n"
     ]
    },
    {
     "data": {
      "image/png": "[encoded data removed]",
      "text/plain": [
       "<Figure size 1440x378 with 1 Axes>"
      ]
     },
     "metadata": {
      "needs_background": "light"
     },
     "output_type": "display_data"
    }
   ],
   "source": [
    "#!/usr/bin/env python3.6\n",
    "# -*- coding: utf-8 -*-\n",
    "\n",
    "__author__ = 'Serafina Nieves'\n",
    "__email__ = 'smnieves@ucsc.edu'\n",
    "\n",
    "import pandas as pd\n",
    "import argparse\n",
    "from scipy.stats import mannwhitneyu\n",
    "import matplotlib.pyplot as plt\n",
    "import matplotlib.patches as mplpatches\n",
    "import numpy as np\n",
    "import os\n",
    "import random\n",
    "\n",
    "# change dimensions of the entire figure\n",
    "figureHeight = 5.25\n",
    "figureWidth = 20\n",
    "\n",
    "plt.figure(figsize=(figureWidth, figureHeight))\n",
    "\n",
    "mainPanelWidth = 18\n",
    "mainPanelHeight = 4\n",
    "\n",
    "mainPanel = plt.axes([0.08, 0.15, mainPanelWidth / figureWidth, mainPanelHeight / figureHeight])\n",
    "\n",
    "arth_genes = []\n",
    "with open(\"arth_gene_ids.txt\") as file:\n",
    "    for line in file:\n",
    "        arth_genes.append(line.strip())\n",
    "        \n",
    "species_dict = {\"a_vulgare\": \"armadillidium vulgare\", \"a_echinatior\": \"acromyrmex echinatior\", \"c_cedri\": \"cinara cedri\", \"c_calcarata\": \"ceratina calcarata\", \"d_ananassae\": \"drosophila ananassae\", \"d_eugracilis\": \"drosophila eugracilis\", \"f_exsecta\": \"formica exsecta\", \"r_zephyra\": \"rhagoletis zephyria\", \"s_flava\": \"sipha flava\", \"s_invicta\": \"solenopsis invicta\", \"t_clavipes\": \"trichonephila clavipes\", \"v_emeryi\": \"vollenhovia emeryi\", \"w_auropunctata\": \"wasmannia auropunctata\", \"l_striatellus\": \"laodelphax striatellus\"}\n",
    "\n",
    "        \n",
    "#print(arth_genes)\n",
    "SRA_dict = {}\n",
    "color_list = [\"#3c1642\",\"#086375\",\"#1dd3b0\",\"#d7263d\",\"#a288e3\",\"#f6ae2d\",\"#fa7921\",\"#ee4266\",\"#5b3000\",\"#607744\"]\n",
    "color_list2 = [\"#7d2e8a\",\"#0fb1d2\",\"#93f0de\",\"#e77484\",\"#d8cdf4\",\"#f9d38a\",\"#fcaa73\",\"#f58fa5\",\"#b86200\",\"#93ad71\"]\n",
    "color_pairs = color_list + color_list2\n",
    "color_pairs[::2] = color_list\n",
    "color_pairs[1::2] = color_list2\n",
    "print(color_pairs)\n",
    "\n",
    "\n",
    "def readData():\n",
    "    with open(filename) as tpm_file:\n",
    "        tpm_df = pd.read_csv(tpm_file, engine='python', header=0, sep='\\t')\n",
    "        hgt_df = tpm_df[tpm_df['Gene_Id'].isin(arth_genes)]\n",
    "        host_df = tpm_df[~tpm_df['Gene_Id'].isin(arth_genes)]\n",
    "        host_df_sample = tpm_df[~tpm_df['Gene_Id'].isin(arth_genes)].sample(50)\n",
    "        #print(filename, hgt_df)\n",
    "        \n",
    "        mwu_values = mannwhitneyu(hgt_df['TPM'], host_df['TPM'])\n",
    "    \n",
    "#         outdf.drop_duplicates(subset=\"Gene_Id\", keep=\"first\")\n",
    "#         all_outfile.write(outdf.to_csv(header=False, sep=\"\\t\", index=False) + \"\\n\")\n",
    "        \n",
    "    return hgt_df, host_df_sample, mwu_values\n",
    "                \n",
    "\n",
    "        \n",
    "def generateData():\n",
    "    for species in range (1, 7):\n",
    "        hgt_name = \"hgt\" + str(species)\n",
    "        host_name = \"host\" + str(species)\n",
    "        hgt_tpm_list = []\n",
    "        host_tpm_list = []\n",
    "#         for num in range (0, 50):\n",
    "#             hgt_tpm_list.append(random.uniform(0, 100))\n",
    "#             host_tpm_list.append(random.uniform(0, 100))\n",
    "\n",
    "        hgt_tpm_list = np.random.normal(50, 0.5, 50)\n",
    "        host_tpm_list = np.random.normal(50, 1, 50)\n",
    "        \n",
    "        #print(hgt_tpm_list)\n",
    "\n",
    "        SRA_dict[hgt_name] = hgt_tpm_list\n",
    "        SRA_dict[host_name] = host_tpm_list\n",
    "        \n",
    "def plotData(tpm_data, xaxis):\n",
    "    hgt_exp = tpm_data[0]['TPM'].loc[tpm_data[0]['TPM'] > 0].apply(lambda x: np.log2(x))\n",
    "    host_exp = tpm_data[1]['TPM'].apply(lambda x: np.log2(x))\n",
    "    mwu_test = tpm_data[2][0]\n",
    "    mwu_p = tpm_data[2][1]\n",
    "    \n",
    "    outdf = tpm_data[0][[\"Chr\", \"Gene_Id\", \"TPM\"]].copy()\n",
    "    outdf[\"species\"] = species_dict[filename[:filename.index(\"_\", 2)]]\n",
    "    outdf.reset_index(drop=True, inplace=True)\n",
    "    \n",
    "    # mwu_label = \"test={0}, p={1:.4}\".format(mwu_test, mwu_p)\n",
    "    mwu_label = \"p={0:.4}\".format(mwu_p)\n",
    "    \n",
    "    for number in hgt_exp:\n",
    "        #color = color_pairs[xaxis-1]\n",
    "        xpos = xaxis + random.uniform(-1, 1)/5\n",
    "        #print(xpos)\n",
    "        ypos = number\n",
    "        #print(ypos)\n",
    "        mainPanel.plot(xpos, ypos,\n",
    "                                   marker='o',\n",
    "                                   markerfacecolor=\"red\",\n",
    "                                   markersize=6,\n",
    "                                   markeredgewidth=0,\n",
    "                                   linewidth=0, \n",
    "                                   alpha=0.5)\n",
    "        \n",
    "    for number in host_exp:\n",
    "        #color = color_pairs[xaxis]\n",
    "        xpos = xaxis + 1 + random.uniform(-1, 1)/5\n",
    "        #print(xpos)\n",
    "        ypos = number\n",
    "        #print(ypos)\n",
    "        mainPanel.plot(xpos, ypos,\n",
    "                                   marker='o',\n",
    "                                   markerfacecolor=\"black\",\n",
    "                                   markersize=6,\n",
    "                                   markeredgewidth=0,\n",
    "                                   linewidth=0, \n",
    "                                   alpha=0.5)\n",
    "    \n",
    "    \n",
    "    mediany_hgt = np.median(hgt_exp[hgt_exp != any([-np.inf, np.inf])])\n",
    "        \n",
    "    if mediany_hgt > 13 or mediany_hgt < -12.5:\n",
    "        print(tpm_data[0]['TPM'])\n",
    "    \n",
    "    mediany_host = np.median(host_exp)\n",
    "    \n",
    "    mainPanel.plot([xaxis-0.3, xaxis+0.3], [mediany_hgt, mediany_hgt],\n",
    "                   linestyle='-',\n",
    "                   color='green',  # set the colors of the circle to increase from black to white\n",
    "                   linewidth=2\n",
    "                   )\n",
    "    mainPanel.plot([xaxis + 1 - 0.3, xaxis + 1 + 0.3], [mediany_host, mediany_host],\n",
    "                   linestyle='-',\n",
    "                   color='green',  # set the colors of the circle to increase from black to white\n",
    "                   linewidth=2\n",
    "                   )\n",
    "    \n",
    "    ypos_label = max(hgt_exp) + 1\n",
    "    plt.text(xaxis + 0.25, -10, mwu_label, fontsize=12)\n",
    "    \n",
    "    return outdf\n",
    "        \n",
    "open(\"tpm_check.txt\", \"w\").close()\n",
    "xlabels = []\n",
    "i = 1\n",
    "final_df = pd.DataFrame()\n",
    "file_list = ['a_echinatior_ERR034191Aligned.sortedByCoord.out_genes.out', 'a_vulgare_SRR1324808Aligned.sortedByCoord.out_genes.out', 'c_cedri_ERR3447770Aligned.sortedByCoord.out_genes.out', 'f_exsecta_DRR118169Aligned.sortedByCoord.out_genes.out', 's_invicta_SRR8570229Aligned.sortedByCoord.out_genes.out', 't_clavipes_SRR5139361Aligned.sortedByCoord.out_genes.out', 'v_emeryi_DRR030162Aligned.sortedByCoord.out_genes.out', 'w_auropunctata_DRR029092Aligned.sortedByCoord.out_genes.out']\n",
    "#for filename in os.listdir(\"C:\\\\Users\\\\Serafina Nieves\\\\Google Drive\\\\Lab\\\\Lab Work\\\\Jupyter Lab\\\\\"):\n",
    "for filename in file_list:\n",
    "    if filename.endswith(\"genes.out\"):\n",
    "        xlabels.append(filename[:filename.index(\"_\", 2)] + \"\\n\" + filename[filename.index(\"_\", 2) + 1: filename.index(\"Aligned\")])\n",
    "        xlabels.append(\"\")\n",
    "        outdf = plotData(readData(), i)\n",
    "        outdf[\"sample\"] = filename[filename.index(\"_\", 2) + 1: filename.index(\"Aligned\")]\n",
    "        final_df = pd.concat([final_df, outdf])\n",
    "        i += 2\n",
    "        \n",
    "print(xlabels)\n",
    "        \n",
    "with open(\"tpm_check.txt\", \"a\") as all_outfile:\n",
    "    final_df.reset_index(drop=True, inplace=True)\n",
    "    final_df.drop_duplicates(subset=\"Gene_Id\", keep=\"first\", inplace=True)\n",
    "    all_outfile.write(final_df.to_csv(header=False, sep=\"\\t\", index=False))\n",
    "\n",
    "generateData()\n",
    "\n",
    "\n",
    "# change tick labels / distances\n",
    "mainPanel.set_xticks(np.arange(1, 17, 1))\n",
    "mainPanel.set_xlim(0, 17)\n",
    "mainPanel.set_ylim(-12.5, 13)\n",
    "mainPanel.set_xticklabels(xlabels, fontsize=14)\n",
    "mainPanel.set_title(\"Gene Expression for Host and Integrated Wolbachia Genes\", pad=10, loc=\"center\", fontsize=16, fontweight='bold')\n",
    "mainPanel.set_xlabel(\"Organism / Read Set Accession\", labelpad=10, fontsize=12)\n",
    "mainPanel.set_ylabel(\"Normalized Expression Value ($log_2(TPM)$)\", fontsize=12)\n",
    "\n",
    "plt.savefig('anewjourney.png', dpi=300)"
   ]
  },
  {
   "cell_type": "markdown",
   "metadata": {},
   "source": [
    "So this looks pretty promising (and pretty)! I will have to figure out how to pair the hgt and host data when the TPMCalculator finishes, but it should be smooth sailing from there... I hope. Hopefully I can pair it by extracting the hgt portions right after reading in the file and then randomly sampling the host portions. Also, I came up with this really nice color palette that I'd like to use in the future. It pairs colors in darks / lights, so you can associate pairs of data."
   ]
  },
  {
   "cell_type": "code",
   "execution_count": null,
   "metadata": {},
   "outputs": [],
   "source": [
    "color_list = [\"#3c1642\",\"#086375\",\"#1dd3b0\",\"#d7263d\",\"#a288e3\",\"#f6ae2d\",\"#fa7921\",\"#ee4266\",\"#5b3000\",\"#607744\"]\n",
    "color_list2 = [\"#7d2e8a\",\"#0fb1d2\",\"#93f0de\",\"#e77484\",\"#d8cdf4\",\"#f9d38a\",\"#fcaa73\",\"#f58fa5\",\"#b86200\",\"#93ad71\"]\n",
    "color_pairs = color_list + color_list2\n",
    "color_pairs[::2] = color_list\n",
    "color_pairs[1::2] = color_list2"
   ]
  },
  {
   "cell_type": "markdown",
   "metadata": {},
   "source": [
    "#### Thursday 07/02/2020 - Curating GTF files for TPMCalculator\n",
    "So it seems some of the the TPMCalculator jobs didn't run correctly because the GTF files were missing gene_ids. So I went through and deleted lines that didn't contain gene_ids. All of these were transcript \"alternatives\", that for whatever reason did not end up with gene_ids. So this is what I did to get rid of these so TPMCalculator would run:"
   ]
  },
  {
   "cell_type": "code",
   "execution_count": null,
   "metadata": {},
   "outputs": [],
   "source": [
    "grep -nv gene_id *cedri/*gtf\n",
    "# get the line numbers of lines that don't contain gene_id\n",
    "sed -i '10557 d; 14799 d; 31850 d; 31851 d; 37795 d; 37796 d; 37836 d; 56087 d; 73533 d; 120236 d; 122308 d; 141148 d; 141149 d; 172341 d; 173829 d; 190917 d' *cedri/*gtf\n",
    "# remove those line numbers from the GTF file"
   ]
  },
  {
   "cell_type": "markdown",
   "metadata": {},
   "source": [
    "I added median lines, more data, and changed the coloring of the figure I made above. I think it looks pretty good, especially on log scale."
   ]
  },
  {
   "cell_type": "markdown",
   "metadata": {},
   "source": [
    "#### Friday 07/03/2020 - To-do list\n",
    "- [x] Mann Whitney U-test for Jitterplot Data (use all data, not just sample)  \n",
    "- [x] See if contigs with HGT contain host genes as well (from GFF) (verify that host genes are actually host genes)  \n",
    "- [x] See if HGT genes contain introns  \n",
    "- [x] Investigate t_clavipes (labelled as anomalous due to contamination)\n",
    "- [x] Annotate RNA-seq data with type (mRNA enrichment, rRNA depletion, total RNA, etc.)  \n",
    "- [x] Lit search on what is known about Wolbachia HGT  \n",
    "- [x] Log2 for figure  "
   ]
  },
  {
   "cell_type": "markdown",
   "metadata": {},
   "source": [
    "## Checking for Eukaryotic Presence on Contigs and Introns"
   ]
  },
  {
   "cell_type": "markdown",
   "metadata": {},
   "source": [
    "#### Wednesday 07/08/2020 - Verifying contigs containing HGT genes\n",
    "Below is the start of a program that aims to assess whether the contig that an HGT gene lies on contains host genes. This is important because it tells us that the HGT portion is probably a real insertion between host genes. If the whole contig is HGT genes, this could indicate contamination or potentially misassembly (?). At the same time, we can determine if the HGT gene contains introns, which would suggest that it has been in a eukaryotic host for long enough to acquire eukaryotic features."
   ]
  },
  {
   "cell_type": "code",
   "execution_count": 12,
   "metadata": {},
   "outputs": [
    {
     "name": "stderr",
     "output_type": "stream",
     "text": [
      "usage: ipykernel_launcher.py [-h] [-a ANNOTATION_INPUT]\n",
      "ipykernel_launcher.py: error: unrecognized arguments: -f C:\\Users\\Serafina Nieves\\AppData\\Roaming\\jupyter\\runtime\\kernel-13c951e3-dd64-439a-b458-5319d3715096.json\n"
     ]
    },
    {
     "ename": "SystemExit",
     "evalue": "2",
     "output_type": "error",
     "traceback": [
      "An exception has occurred, use %tb to see the full traceback.\n",
      "\u001b[1;31mSystemExit\u001b[0m\u001b[1;31m:\u001b[0m 2\n"
     ]
    },
    {
     "name": "stderr",
     "output_type": "stream",
     "text": [
      "C:\\Users\\Serafina Nieves\\Anaconda3\\lib\\site-packages\\IPython\\core\\interactiveshell.py:3334: UserWarning: To exit: use 'exit', 'quit', or Ctrl-D.\n",
      "  warn(\"To exit: use 'exit', 'quit', or Ctrl-D.\", stacklevel=1)\n"
     ]
    }
   ],
   "source": [
    "#!/usr/bin/env python3.6\n",
    "# -*- coding: utf-8 -*-\n",
    "\n",
    "__author__ = 'Serafina Nieves'\n",
    "__email__ = 'smnieves@ucsc.edu'\n",
    "\n",
    "import pandas as pd\n",
    "import argparse\n",
    "import numpy as np\n",
    "import os\n",
    "import gffutils\n",
    "\n",
    "parser = argparse.ArgumentParser()\n",
    "parser.add_argument('-a', '--annotation_input', default=\"\")\n",
    "args = parser.parse_args()\n",
    "\n",
    "annotation = args.annotation_input\n",
    "\n",
    "\n",
    "gene_list = []\n",
    "with open(\"/home/smnieves/bin/prot_gene_ids.txt\", \"r\") as acc_file:\n",
    "    for line in acc_file:\n",
    "        gene, prot = line.strip().split('\\t')\n",
    "        gene_list.append(gene)\n",
    "\n",
    "fn = annotation + \".gff\"\n",
    "db_fn = annotation + \".db\"\n",
    "\n",
    "gff_db = gffutils.create_db(fn, dbfn=db_fn, force=True, keep_order=True, merge_strategy='create_unique', sort_attribute_values=True)\n",
    "\n",
    "gff_db = gffutils.FeatureDB(db_fn, keep_order=True)\n",
    "\n",
    "\n",
    "outfile_name = annotation + \"_introns.txt\"\n",
    "with open(outfile_name, 'w') as outfile:\n",
    "\n",
    "    acc_worked = []\n",
    "    contigs = set()\n",
    "    contains_introns = set()\n",
    "    intron_check = []\n",
    "    for acc in gene_list:\n",
    "        num_exons = 0\n",
    "        try:\n",
    "            for i in gff_db.children(gff_db[acc], featuretype='exon', order_by='start'):\n",
    "                num_exons += 1\n",
    "                acc_worked.append(acc)\n",
    "                contigs.add(gff_db[acc].id)\n",
    "                \n",
    "            if num_exons > 1:\n",
    "                outfile.write(\"\\n\\nNon-overlapping exons in feature \" + acc + \": \" + str(num_exons) + \"\\n\")\n",
    "\n",
    "                last_exon = False\n",
    "                intron_count = 0\n",
    "                for i in gff_db.children(gff_db[acc], featuretype='exon', order_by='start'):\n",
    "                    if last_exon == False:\n",
    "                        last_exon = i\n",
    "                    else:\n",
    "                        if i.start - last_exon.end > 0:\n",
    "                            contains_introns.add(acc)\n",
    "                            outfile.write(\"\\nIntron of length: \" + str(i.start - last_exon.end) + \"\\n\")\n",
    "                            intron_count += 1\n",
    "                            last_exon = i\n",
    "                    outfile.write(i)\n",
    "                intron_check.append((acc, intron_count))\n",
    "        except(gffutils.exceptions.FeatureNotFoundError):\n",
    "            continue\n",
    "    \n",
    "    flanking_genes = []\n",
    "    for ident in contigs:\n",
    "        genes_on_contig = gff_db.children(gff_db[ident], featuretype='gene', order_by='start')\n",
    "        for gene in genes_on_contig:\n",
    "            print(gene.id)\n",
    "\n",
    "\n",
    "    outfile.write(\"\\n\\n\" + str(len(acc_worked)) + \" HGT genes were found in the GFF file and checked for introns. \" + str(len(contains_introns)) + \" genes with introns were found:\\n\")\n",
    "    for item in contains_introns:\n",
    "        outfile.write(item + \"\\n\")\n",
    "        \n",
    "    with open(\"intron_check.txt\", \"w\") as outfile2:\n",
    "        for item in intron_check:\n",
    "            outfile2.write(item[0] + \"\\t\" + item[1])"
   ]
  },
  {
   "cell_type": "markdown",
   "metadata": {},
   "source": [
    "#### Monday 07/20/2020 - Finalizing IntronFinder.py\n",
    "I have finalized the above program that infers introns from non-overlapping exons in GFF files. I did this to find introns in putative horizontally transferred genes, which might indicate that they are real insertions that have begun to acquire eukaryotic features."
   ]
  },
  {
   "cell_type": "markdown",
   "metadata": {},
   "source": [
    "#### Wednesday 07/22/2020 - More on IntronFinder.py\n",
    "So I actually extended the functionality of IntronFinder to also compile a list of the first and last gene on a contig in which there is also an HGT gene. Hopefully in this way I can show that an HGT gene inserted between eukaryotic genes. The goal is to use the accessions for the flanking genes, download their fastas, and then BLAST them against nt or nr to verify that they are eukaryotic genes. The only thing is it seems that a lot of the HGT genes are the sole genes on their contigs, which is kind of concerning to me. ***The most up-to-date IntronFinder.py is the standalone python script, not the embedded Jupyter Notebook script above.***"
   ]
  },
  {
   "cell_type": "markdown",
   "metadata": {},
   "source": [
    "#### Sunday 07/26/2020 - BLASTing Flanking Genes\n",
    "IntronFinder.py returns a list of genes that flank HGT genes anywhere else on the contig. These flanking genes are not contained in the original list of the HGT genes, but may contain genes that were horizontally transferred but not detected in the first pass of my workflow. The IntronFinder then finds the proteins encoded by the gene and records their accessions. *flank_blast.acc* contains these protein accessions, which were used to download fasta CDS. *fasta-splitter.pl* was used to split up the large multi-fasta document into smaller parts, and *parallel* used to BLAST the parts against the nt database. Then I can look at the results and determine if the flanking genes are eukaryotic-derived or Wolbachia-derived. The steps are recorded below."
   ]
  },
  {
   "cell_type": "code",
   "execution_count": null,
   "metadata": {},
   "outputs": [],
   "source": [
    "for file in $(find ./* -name *.gff); do input=${file%.gff}; IntronFinder.py -a $input; done\n",
    "# use Batch Entrez to download fasta CDS for every protein in flank_blast.acc > flanking_geneCDS.fna\n",
    "fasta-splitter.pl --part-size 50 -measure count --nopad flanking_geneCDS.fna\n",
    "find . -name \"*.fna\" | parallel -j 8 \"blastn -query {} -out {}.out -db /Scratch/smnieves/databases/nr/nr -outfmt '6 qseqid sseqid pident length mismatch gapopen qstart qend sstart send evalue bitscore staxids sscinames scomnames sskingdoms' -num_threads 4\""
   ]
  },
  {
   "cell_type": "markdown",
   "metadata": {},
   "source": [
    "Using Batch Entrez to find the nucleotide subject sequences, is not working out well. It fails to load, and I'm not sure if that's an internet problem or a me problem or a Batch Entrez problem. I'm trying the same method, except BLASTing the protein sequences against **nr** and then searching for those results in the NCBI Protein database."
   ]
  },
  {
   "cell_type": "markdown",
   "metadata": {},
   "source": [
    "#### Tuesday 08/04/2020 - Filtering New Blast Data\n",
    "I ended up using BLASTn to find the closest homologous proteins for all of the flanking proteins (using the nt database). I had it set up so that the scientific name and kingdom for each hit is recorded, so I can easily see if the flanking genes are eukaryotic or bacterial in origin. I will have to decide the cutoffs for sequence similarity and length, so that only the best hits are considered when determining the origin. Because FilterBlast.py can't really handle these new fields, and I don't feel like fucking with it right now, I'm just going to write a simple non-flexible script below."
   ]
  },
  {
   "cell_type": "code",
   "execution_count": 7,
   "metadata": {},
   "outputs": [],
   "source": [
    "#!/usr/bin/env python3.6\n",
    "# -*- coding: utf-8 -*-\n",
    "\n",
    "__author__ = 'Serafina Nieves'\n",
    "__email__ = 'smnieves@ucsc.edu'\n",
    "\n",
    "import pandas as pd\n",
    "import numpy as np\n",
    "import re\n",
    "\n",
    "def origin(row):\n",
    "    if row[\"count\"] > 0:\n",
    "        return \"Bacteria\"\n",
    "    elif row[\"count\"] == 0:\n",
    "        return \"Eukaryote\"\n",
    "\n",
    "def clean_names(accession):\n",
    "    regex = '(?<=cds_).*?(?=_1)'\n",
    "    clean = re.search(regex, accession)\n",
    "    return clean\n",
    "\n",
    "\n",
    "species = [\"Vollenhovia emeryi\", \"Formica exsecta\", \"Trichonephila clavipes\", \"Cinara cedri\", \"Laodelphax striatellus\", \"Acromyrmex echinatior\", \"Armadillidium vulgare\", \"Wasmannia auropunctata\", \"Rhagoletis zephyria\", \"Drosophila ananassae\", \"Drosophila eugracilis\", \"Ceratina calcarata\", \"Cryptotermes secundus\", \"Solenopsis invicta\", \"Sipha flava\"]\n",
    "\n",
    "blast_table = pd.read_csv(\"new_flanking_gene.faa.out\", engine=\"python\", sep=\"\\t\", names=[\"query acc.ver\", \"subject acc.ver\", \"% identity\",\n",
    "                                                    \"alignment length\",\n",
    "                                                    \"mismatches\", \"gap opens\", \"q. start\", \"q. end\", \"s. start\",\n",
    "                                                    \"s. end\",\n",
    "                                                    \"evalue\", \"bit score\", \"tax id\", \"scientific name\", \"common name\", \"kingdom\"])\n",
    "\n",
    "blast_table = blast_table.loc[blast_table[\"alignment length\"] >= 50]\n",
    "blast_table.sort_values([\"query acc.ver\", \"bit score\"], ascending=False, inplace=True)\n",
    "filter_table = blast_table.groupby([\"query acc.ver\"]).head(10).copy()\n",
    "filter_table[\"count\"] = filter_table.dropna(axis=0).groupby([\"query acc.ver\"])[\"kingdom\"].transform(lambda x: x[x.str.contains(\"Bacteria\")].count())\n",
    "\n",
    "# with open(\"FILEBOIIIII.txt\", \"w\") as testy:\n",
    "#     testy.write(filter_table.to_csv(sep=\"\\t\", index=False))\n",
    "\n",
    "filter_table[\"origin\"] = filter_table.apply(origin, axis=1)\n",
    "# filter_table[\"query acc.ver\"] = filter_table[\"query acc.ver\"].apply(lambda x: x[x.index(\"_\", x.index(\"_\") + 1) + 1: x.index(\"_\", x.index(\"_\", x.index(\"_\") + 1) + 1)])\n",
    "\n",
    "filter_table[\"query acc.ver\"] = filter_table[\"query acc.ver\"].apply(clean_names)\n",
    "#print(filter_table)\n",
    "\n",
    "filter_table = filter_table[[\"query acc.ver\", \"count\", \"origin\"]].drop_duplicates()\n",
    "\n",
    "\n",
    "with open(\"flankgene_check2.txt\", \"w\") as outfile:\n",
    "    outfile.write(filter_table.to_csv(sep=\"\\t\", header=False, index=False, line_terminator='\\n'))"
   ]
  },
  {
   "cell_type": "markdown",
   "metadata": {},
   "source": [
    "## Finalizing Results"
   ]
  },
  {
   "cell_type": "markdown",
   "metadata": {},
   "source": [
    "#### Wednesday 07/29/2020 - Creating a Table of Test Results for Each Gene\n",
    "Using Dataframe objects, I am constructing a table to tabulate the results of all of the tests that I've done: genome coverage percentile, rna-seq TPM, number of introns, and status of flanking genes on contig. This will be done for each gene, and there will be an additional column that has a confidence rating."
   ]
  },
  {
   "cell_type": "code",
   "execution_count": 96,
   "metadata": {},
   "outputs": [
    {
     "name": "stdout",
     "output_type": "stream",
     "text": [
      "RZF45791.1\n",
      "                           real_insertion  counts\n",
      "species                                          \n",
      "N/A                         no confidence      55\n",
      "acromyrmex echinatior     high confidence       2\n",
      "acromyrmex echinatior      low confidence      10\n",
      "acromyrmex echinatior   medium confidence       1\n",
      "armadillidium vulgare      low confidence      41\n",
      "armadillidium vulgare   medium confidence     579\n",
      "armadillidium vulgare       no confidence     586\n",
      "ceratina calcarata         low confidence       1\n",
      "ceratina calcarata      medium confidence       1\n",
      "cinara cedri               low confidence      52\n",
      "cinara cedri            medium confidence       3\n",
      "cinara cedri                no confidence      11\n",
      "drosophila ananassae       low confidence       1\n",
      "drosophila ananassae        no confidence       2\n",
      "formica exsecta            low confidence      15\n",
      "formica exsecta         medium confidence       5\n",
      "laodelphax striatellus     low confidence       1\n",
      "laodelphax striatellus      no confidence      41\n",
      "sipha flava               high confidence       1\n",
      "solenopsis invicta         low confidence       1\n",
      "trichonephila clavipes    high confidence       4\n",
      "trichonephila clavipes     low confidence      68\n",
      "trichonephila clavipes  medium confidence      55\n",
      "vollenhovia emeryi        high confidence       5\n",
      "vollenhovia emeryi         low confidence     105\n",
      "vollenhovia emeryi      medium confidence      59\n",
      "vollenhovia emeryi          no confidence       1\n",
      "wasmannia auropunctata     low confidence       7\n",
      "1659\n"
     ]
    },
    {
     "data": {
      "image/png": "[encoded data removed]",
      "text/plain": [
       "<Figure size 432x216 with 1 Axes>"
      ]
     },
     "metadata": {
      "needs_background": "light"
     },
     "output_type": "display_data"
    }
   ],
   "source": [
    "#!/usr/bin/env python3.6\n",
    "# -*- coding: utf-8 -*-\n",
    "\n",
    "__author__ = 'Serafina Nieves'\n",
    "__email__ = 'smnieves@ucsc.edu'\n",
    "\n",
    "import pandas as pd\n",
    "import numpy as np\n",
    "import matplotlib.pyplot as plt\n",
    "import matplotlib as mpl\n",
    "\n",
    "geneprot_conv = {}\n",
    "sample_selection = {\"ERR034191\": \"poly-A\", \"SRR1015499\": \"poly-A\", \"SRR1015511\": \"poly-A\", \"SRR1324808\": \"mRNA enrichment\",\n",
    "                    \"ERR3447770\": \"total RNA\", \"DRR118169\": \"total RNA\", \"DRR118173\": \"total RNA\", \"DRR118174\": \"total RNA\",\n",
    "                    \"SRR8570229\": \"total RNA\", \"SRR5139361\": \"rRNA depletion\", \"DRR030156\": \"undetermined\", \"DRR030162\": \"undetermined\",\n",
    "                    \"DRR030164\": \"undetermined\", \"DRR029092\": \"undetermined\"}\n",
    "\n",
    "def real_insertion(row):\n",
    "    output = \"\"\n",
    "#     try:\n",
    "#         if row[\"cov_perc\"] > 2.5 and row[\"cov_perc\"] < 97.5:\n",
    "#             real += 1\n",
    "            \n",
    "#     except(TypeError):\n",
    "#         pass\n",
    "    try:\n",
    "        if float(row[\"cov_perc\"]) > 2.5 and float(row[\"cov_perc\"]) < 97.5:\n",
    "            try:\n",
    "                if int(row[\"intron_count\"]) >= 1 or int(row[\"eukcds_on_contig\"]) >= 1:\n",
    "                    output = \"medium confidence\"\n",
    "                    if int(row[\"intron_count\"]) >= 1 and int(row[\"eukcds_on_contig\"]) >= 1 or row[\"selection\"] == \"poly-A\":\n",
    "                        output = \"high confidence\"\n",
    "                else:\n",
    "                    output = \"low confidence\"\n",
    "            except ValueError:\n",
    "                print(row)\n",
    "        else:\n",
    "            output = \"no confidence\"\n",
    "    except(ValueError):\n",
    "        output = \"no confidence\"\n",
    "        \n",
    "    return output\n",
    "\n",
    "\n",
    "for line in open(\"prot_gene_ids.txt\", \"r\"):\n",
    "    gene, prot = line.strip().split(\"\\t\")\n",
    "    geneprot_conv[gene] = prot\n",
    "    \n",
    "print(geneprot_conv[\"gene-LSTR_LSTR015269\"])\n",
    "\n",
    "genomic_check = pd.read_csv(\"genomic_check.txt\", engine=\"python\", sep=\"\\t\", index_col=False, names=[\"chr\", \"gene_id\", \"cov_perc\", \"species\"])\n",
    "tpm_check = pd.read_csv(\"tpm_check.txt\", engine=\"python\", sep=\"\\t\", index_col = False, names=['chr', 'gene_id', 'tpm', 'species', 'sample'], header=None)\n",
    "flank_check = pd.read_csv(\"flankgene_check.txt\", engine=\"python\", sep=\"\\t\", index_col=False, names=['acc', 'count', 'origin'])\n",
    "intron_check = pd.read_csv(\"intron_check.txt\", engine=\"python\", sep=\"\\t\", index_col=False, names=['gene_id', 'intron_count'])\n",
    "\n",
    "tpm_check[\"selection\"] = tpm_check[\"sample\"].map(sample_selection)\n",
    "master_df = genomic_check.copy()\n",
    "master_df[\"prot_id\"] = master_df.apply(lambda row: geneprot_conv[row[\"gene_id\"]], axis=1)\n",
    "\n",
    "\n",
    "master_df = pd.merge(master_df, tpm_check, on=[\"chr\", \"gene_id\",\"species\"], how=\"left\")\n",
    "master_df = pd.merge(master_df, intron_check, on=[\"gene_id\"], how=\"outer\")\n",
    "master_df = master_df[[\"species\", \"chr\", \"gene_id\", \"prot_id\", \"cov_perc\", \"tpm\", \"selection\", \"intron_count\"]]\n",
    "master_df.sort_values([\"species\", \"chr\", \"gene_id\"], inplace=True)\n",
    "master_df.reset_index(drop=True, inplace=True)\n",
    "\n",
    "contigGene_dict = {}\n",
    "\n",
    "with open(\"flank_geneIDs.txt\", \"r\") as flank_file:\n",
    "    for line in flank_file:\n",
    "        contig, gene, prot = line.strip().split(\"\\t\")\n",
    "        #print(contig)\n",
    "        contigGene_dict[prot] = contig\n",
    "\n",
    "contigFlank_count = {key:0 for key in set(master_df[\"chr\"])}\n",
    "\n",
    "with open(\"flankgene_check.txt\", \"r\") as flank_counts:\n",
    "    for line in flank_counts:\n",
    "        acc, count, origin = line.strip().split(\"\\t\")\n",
    "        if origin == \"Eukaryote\":\n",
    "            try:\n",
    "                contigFlank_count[contigGene_dict[acc]] += 1\n",
    "            except(KeyError):\n",
    "                pass\n",
    "\n",
    "master_df[\"eukcds_on_contig\"] = master_df[\"chr\"].apply(lambda x: contigFlank_count[x])\n",
    "master_df.fillna(\"N/A\", inplace=True)\n",
    "master_df[\"real_insertion\"] = master_df.apply(lambda x: real_insertion(x), axis=1)\n",
    "candidates = set(master_df.loc[master_df[\"real_insertion\"].isin([\"high confidence\", \"medium confidence\"])][\"prot_id\"])\n",
    "\n",
    "counts = master_df[\"real_insertion\"].value_counts().reindex([\"no confidence\", \"low confidence\", \"medium confidence\", \"high confidence\"])\n",
    "\n",
    "fig = plt.figure(figsize=(6,3))\n",
    "ax = fig.add_subplot(1,1,1)\n",
    "ax = counts.plot.bar(x='lab', y='val', rot=20, linewidth=1, edgecolor=\"black\", color=\"royalblue\")\n",
    "\n",
    "ax.set_title(\"Overview of Confidence in Putative Transfers\", pad=10, loc=\"center\", fontweight='bold')\n",
    "ax.set_xlabel(\"Confidence Category\", labelpad=10)\n",
    "ax.set_ylabel(\"Number of Genes\")\n",
    "\n",
    "plt.savefig(\"confidence_barplot.png\", dpi=300, bbox_inches = \"tight\")\n",
    "\n",
    "print(master_df.groupby(['species', 'real_insertion']).size().reset_index(name='counts').set_index(\"species\"))\n",
    "\n",
    "with open (\"candidates.txt\", \"w\") as afile:\n",
    "    for item in sorted(candidates):\n",
    "        afile.write(item + \"\\n\")\n",
    "    \n",
    "\n",
    "with open(\"master_list2.txt\", \"w\") as outfile:\n",
    "    outfile.write(master_df.to_csv(sep=\"\\t\", header=True))\n",
    "\n",
    "print(len(set(master_df[\"prot_id\"])))\n",
    "\n",
    "# prot_here = set(master_df[\"prot_id\"])\n",
    "# for item in geneprot_conv.keys():\n",
    "#     if item not in prot_here:\n",
    "#         print(item)"
   ]
  },
  {
   "cell_type": "markdown",
   "metadata": {},
   "source": [
    "## Finalizing Results (cont.)"
   ]
  },
  {
   "cell_type": "markdown",
   "metadata": {
    "toc-hr-collapsed": true,
    "toc-nb-collapsed": true
   },
   "source": [
    "#### Thursday 08/13/2020 - To-do List\n",
    "Several things need to get done to finalize my gene list:\n",
    "- [x] Be able to match the blast accessions back to a contig\n",
    "- [x] Count number of eukaryotic genes per contig and add to master file\n",
    "- [ ] Regenerate covcheck files using genes (not exons) and regenerated bed files\n",
    "- [ ] Generate RNA-seq check files for a. vulgare\n",
    "- [ ] Further investigation into selection methods"
   ]
  },
  {
   "cell_type": "markdown",
   "metadata": {
    "toc-hr-collapsed": true,
    "toc-nb-collapsed": true
   },
   "source": [
    "#### Tuesday 09/15/2020 - Adding Proteins to the Analysis\n",
    "After reblasting updated refseq and genbank protein assemblies at my Wolbachia database (and fixing **FilterBlast.py**), i found potentially ~1000 more protein sequences. I am getting the taxids for these proteins, and then making species directories to run the above analysis on them.\n",
    "Here is how I'm fetching the *taxids*:"
   ]
  },
  {
   "cell_type": "code",
   "execution_count": null,
   "metadata": {},
   "outputs": [],
   "source": [
    "while read -r line\n",
    "do\n",
    "esearch -db protein -query line |esummary|xtract -pattern TaxId -element TaxId >> updated_taxids.txt\n",
    "done < *acc"
   ]
  },
  {
   "cell_type": "markdown",
   "metadata": {
    "toc-hr-collapsed": true,
    "toc-nb-collapsed": true
   },
   "source": [
    "#### Wednesday 09/23/2020 - Doing above analysis by gene (not exon)\n",
    "**Basura contains covcheck files generated by exon. Mermaid contains covcheck files (in scratch) generated by gene.** The master list needs to be regenerated so that we can view all info by gene. I believe the covcheck files are the only ones forcing the master list to read by exon instead of gene. Hopefully I don't need to update any code to handle genes (I don't think I'll need to). The updated CovCheck program is **CovCheck_genes.py**."
   ]
  },
  {
   "cell_type": "markdown",
   "metadata": {
    "toc-hr-collapsed": true,
    "toc-nb-collapsed": true
   },
   "source": [
    "#### Monday 12/07/2020 - Information on updated BLAST and ProttoGene.py\n",
    "So **ProttoGene.py** looks up the gene name for the protein in the GFF files. Below I will list any information about this more comprehensive BLAST run that I think is relevant:\n",
    " - Filtered by perc_id >= 80 and len_align >= 150\n",
    " - 31 assemblies had proteins that met these parameters against the Wolbachia database\n",
    "| File                                                                               | Number of Unique BLASTp Hits |\n",
    "|------------------------------------------------------------------------------------|------------------------------|\n",
    "| GCA_000005115.1_dana_caf1_protein.faa.out.filtered                                 | 3                            |\n",
    "| GCA_000208615.1_JCVI_ISG_i3_1.0_protein.faa.out.filtered                           | 4                            |\n",
    "| GCA_001887335.1_A_vulgare_v1_protein.faa.out.filtered                              | 1224                         |\n",
    "| GCA_002891405.2_Csec_1.0_protein.faa.out.filtered                                  | 2                            |\n",
    "| GCA_003335185.2_ASM333518v2_protein.faa.out.filtered                               | 32                           |\n",
    "| GCA_004104545.1_Arma_vul_BF2787_protein.faa.out.filtered                           | 13                           |\n",
    "| GCA_004794745.1_tlon_1.0_protein.faa.out.filtered                                  | 1                            |\n",
    "| GCA_013235015.1_Ave_3.0_protein.faa.out.filtered                                   | 5                            |\n",
    "| GCA_013368085.1_Ate_protein.faa.out.filtered                                       | 58                           |\n",
    "| GCA_902439185.1_CINCED3_protein.faa.out.filtered                                   | 121                          |\n",
    "| GCF_000188075.2_Si_gnH_protein.faa.out.filtered 3                                  |                              |\n",
    "| GCF_000204515.1_Aech_3.9_protein.faa.out.filtered                                  | 14                           |\n",
    "| GCF_000236305.1_Drho_2.0_protein.faa.out.filtered                                  | 1                            |\n",
    "| GCF_000236325.1_Deug_2.0_protein.faa.out.filtered                                  | 1                            |\n",
    "| GCF_000475195.1_Diaci_psyllid_genome_assembly_version_1.1_protein.faa.out.filtered | 2                            |\n",
    "| GCF_000949405.1_V.emery_V1.0_protein.faa.out.filtered                              | 173                          |\n",
    "| GCF_000956235.1_wasmannia.A_1.0_protein.faa.out.filtered                           | 7                            |\n",
    "| GCF_001594055.1_Tzet1.0_protein.faa.out.filtered                                   | 1                            |\n",
    "| GCF_001594075.1_Tcor1.0_protein.faa.out.filtered                                   | 2                            |\n",
    "| GCF_001652005.1_ASM165200v1_protein.faa.out.filtered                               | 3                            |\n",
    "| GCF_001687245.1_Rhagoletis_zephyria_1.0_protein.faa.out.filtered                   | 24                           |\n",
    "| GCF_002891405.2_Csec_1.0_protein.faa.out.filtered                                  | 2                            |\n",
    "| GCF_003070985.1_ASM307098v1_protein.faa.out.filtered                               | 1                            |\n",
    "| GCF_003268045.1_YSA_version1_protein.faa.out.filtered                              | 2                            |\n",
    "| GCF_003285975.2_DanaRS2.1_protein.faa.out.filtered                                 | 1                            |\n",
    "| GCF_003426905.1_ASM342690v1_protein.faa.out.filtered                               | 1                            |\n",
    "| GCF_003651465.1_ASM365146v1_protein.faa.out.filtered                               | 21                           |\n",
    "| GCF_003710045.1_USU_Nmel_1.2_protein.faa.out.filtered                              | 1                            |\n",
    "| GCF_004153925.1_Obicornis_v3_protein.faa.out.filtered                              | 5                            |\n",
    "| GCF_012274295.1_USDA_OLig_1.0_protein.faa.out.filtered                             | 2                            |\n",
    "| GCF_902806685.1_iAphHyp1.1_protein.faa.out.filtered                                | 18                           |"
   ]
  },
  {
   "cell_type": "code",
   "execution_count": null,
   "metadata": {},
   "outputs": [],
   "source": [
    "IDS = [ananassae, ananassae2, auropunctata, bicornis, calcarata, cedri, citri, clavipes,\n",
    "cornetzi, curvispinosus, echinatior, elegans, emeryi, eugracilis, exsecta, felis, flava, hyperantus, invicta, lignaria,\n",
    "longispinosus, melanderi, rhopaloa,secundus, striatellus, terminalis, ventricosus, vulgare, vulgare2, zephyria, zeteki]\n",
    "\n",
    "rule all:\n",
    "    expand(\"{directory}/{sra}.covcheck\", directory=IDS.keys(), sra=IDS.values())\n",
    "    \n",
    "rule download_data:\n",
    "    shell:\n",
    "        \"prefetch {sra} --max-size 60G\"\n",
    "        \"fastq-dump --split-files --gzip {sra}\"\n",
    "        \"rm ~/ncbi/public/sra/{sra}.sra\"\n",
    "\n",
    "rule create_bed:\n",
    "    shell:\n",
    "        \"convert2bed -i gff -o bed < .gff > $ref.bed\""
   ]
  },
  {
   "cell_type": "code",
   "execution_count": 98,
   "metadata": {},
   "outputs": [
    {
     "data": {
      "image/png": "[encoded data removed]",
      "text/plain": [
       "<Figure size 1440x576 with 12 Axes>"
      ]
     },
     "metadata": {
      "needs_background": "light"
     },
     "output_type": "display_data"
    }
   ],
   "source": [
    "#!/usr/bin/env python3.6\n",
    "# -*- coding: utf-8 -*-\n",
    "\n",
    "__author__ = 'Serafina Nieves'\n",
    "__email__ = 'smnieves@ucsc.edu'\n",
    "\n",
    "import pandas as pd\n",
    "import argparse\n",
    "from scipy import stats\n",
    "import matplotlib.pyplot as plt\n",
    "import matplotlib.patches as mplpatches\n",
    "import numpy as np\n",
    "import os\n",
    "\n",
    "\n",
    "speciesDict = {\"SRR3458570.covcheck\": \"armadillidium vulgare\", \"ERR034187.covcheck\": \"acromyrmex echinatior\", \"SRR3458573.covcheck\": \"armadillidium vulgare\", \"ERR3437293.covcheck\": \"cinara cedri\",\n",
    "                   \"SRR2912519.covcheck\": \"ceratina calcarata\", \"SRR2135644.covcheck\": \"drosophila ananassae\", \"SRR341538.covcheck\": \"drosophila eugracilis\",\n",
    "                   \"DRR042089.covcheck\": \"formica exsecta\", \"SRR3680351.covcheck\": \"rhagoletis zephyria\", \"SRR7188756.covcheck\": \"sipha flava\", \"SRR621118.covcheck\": \"solenopsis invicta\",\n",
    "                   \"SRR5139338.covcheck\": \"trichonephila clavipes\", \"DRR037409.covcheck\": \"vollenhovia emeryi\", \"DRR029092.covcheck\": \"wasmannia auropunctata\", \"SRR5830088.covcheck\": \"laodelphax striatellus\"}\n",
    "\n",
    "panel_num = 1\n",
    "fig, subs = plt.subplots(3, 4, figsize=(20, 8), sharex=True)\n",
    "\n",
    "covcheck_files = []\n",
    "hist_list = []\n",
    "for file in os.listdir(\"C:/Users/Serafina Nieves/Google Drive/Lab/Lab Work/Jupyter Lab/\"):\n",
    "    if file.endswith(\".covcheck\"):\n",
    "        cov = pd.read_csv(file, sep='\\t', header=0, names=['row', 'chr', 'id', 'region_len', 'total_cov', 'median_exon_cov', 'cov_percentile'])\n",
    "        covcheck_files.append((file, cov['cov_percentile'].tolist()))\n",
    "        \n",
    "covcheck_files = sorted(covcheck_files[0:12], key=lambda x: len(x[1]))\n",
    "\n",
    "num = 0\n",
    "for i in range(0, 3):\n",
    "    for j in range(0, 4):\n",
    "        y, x, _ = subs[i][j].hist(covcheck_files[num][1], bins=np.arange(0, 102.5, 2.5), alpha=0.55, lw=1.25, color='red', edgecolor='black')\n",
    "        subs[i][j].set_xlabel(speciesDict[covcheck_files[num][0]], labelpad=5)\n",
    "        num+=1\n"
   ]
  },
  {
   "cell_type": "markdown",
   "metadata": {},
   "source": [
    "#### Thursday 01/14/2021 - Redoing the Master List\n",
    "I found it might be worth it to create a larger master list program so there aren't so many disjointed parts and incompatibility issues. I will do that below."
   ]
  },
  {
   "cell_type": "code",
   "execution_count": null,
   "metadata": {},
   "outputs": [],
   "source": []
  }
 ],
 "metadata": {
  "kernelspec": {
   "display_name": "Python 3",
   "language": "python",
   "name": "python3"
  },
  "language_info": {
   "codemirror_mode": {
    "name": "ipython",
    "version": 3
   },
   "file_extension": ".py",
   "mimetype": "text/x-python",
   "name": "python",
   "nbconvert_exporter": "python",
   "pygments_lexer": "ipython3",
   "version": "3.8.5"
  },
  "toc-autonumbering": false,
  "toc-showcode": false,
  "toc-showmarkdowntxt": false,
  "toc-showtags": false
 },
 "nbformat": 4,
 "nbformat_minor": 4
}
